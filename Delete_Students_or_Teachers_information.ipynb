{
 "cells": [
  {
   "cell_type": "code",
   "execution_count": 1,
   "id": "4984c062-fd96-4af8-946f-0eff6da4986f",
   "metadata": {},
   "outputs": [],
   "source": [
    "import pandas as pd\n",
    "import numpy as np\n",
    "import redis"
   ]
  },
  {
   "cell_type": "code",
   "execution_count": 2,
   "id": "27f18bcf-9ab6-46d9-afd8-6360a78e5609",
   "metadata": {},
   "outputs": [],
   "source": [
    "# Connect to Redis Client\n",
    "hostname = 'redis-13028.c93.us-east-1-3.ec2.redns.redis-cloud.com'\n",
    "portnumber = 13028\n",
    "password = 'u1M738HF2YCWPYDMVEtxdqmDAP2T0pkA'\n",
    "\n",
    "\n",
    "\n",
    "r = redis.StrictRedis(host=hostname,\n",
    "                    port=portnumber,\n",
    "                    password=password)"
   ]
  },
  {
   "cell_type": "code",
   "execution_count": 3,
   "id": "99cd8989-98c2-44f5-a420-4bfe9a71d161",
   "metadata": {},
   "outputs": [
    {
     "data": {
      "text/plain": [
       "True"
      ]
     },
     "execution_count": 3,
     "metadata": {},
     "output_type": "execute_result"
    }
   ],
   "source": [
    "r.ping()"
   ]
  },
  {
   "cell_type": "code",
   "execution_count": 4,
   "id": "c8575c2f-a8b4-4ee4-96df-75b73580a2d3",
   "metadata": {},
   "outputs": [
    {
     "data": {
      "text/plain": [
       "b'Pratik Rathod@Student'                           b'\\x1c\\xca\\xc1?2N2\\xbf0Z\\xd3>\\xe1*p\\xbe4\\x1fJ?...\n",
       "b'Mr. Kiran Parmar@Non Teaching Faculty'           b'\\xf2\\xcf_\\xbf\\xb8jB?\\x9a\\x1a\\x1e?\\xbd\\xbd\\x9...\n",
       "b'Harsh Vaidya@Student'                            b'\\xc4\\xfbX\\xbf^\\x1a9\\xbd\\xb5\\xa1i?1\\x9f8?\\n\\x...\n",
       "b'Ms. Swati Saxena @Teacher'                       b'\\xb4\\xe0\\x0b\\xbe\\xd7\\xe2\\xc6>f\\x1e\\x8b\\xbe)\\...\n",
       "b'President P.K. Taneja Sir@Higher Authorities'    b'\\xcd[\\xf4=\\xc4 \\xfd=\\xe8\\x81p?E\\x10$=%A\\x0c\\...\n",
       "b'Dean Saurabh Sir@Higher Authorities'             b'mO\\x1e>q\\xd3)\\xbe\\x16y\\x9d\\xbdGO7\\xbf\\xee\\xe...\n",
       "b'Ms. Shweta Rajput Mam@Teacher'                   b'\\xbe\\xb8\\x91\\xbe\\xffe\\xd4>\\x01\\xf2\\x81\\xbe\\x...\n",
       "b'Provost G.R. Sinha Sir@Higher Authorities'       b'\\xc0\\x05\\xee\\xbeu\\xc4l\\xbe\\xcb\\x85Y\\xbf\\x8b\\...\n",
       "dtype: object"
      ]
     },
     "execution_count": 4,
     "metadata": {},
     "output_type": "execute_result"
    }
   ],
   "source": [
    "name = 'academy:register'\n",
    "register_series = pd.Series(r.hgetall(name))\n",
    "register_series"
   ]
  },
  {
   "cell_type": "code",
   "execution_count": 15,
   "id": "0c523435-aaf7-46d1-a837-c64fa53fd1e8",
   "metadata": {},
   "outputs": [
    {
     "data": {
      "text/plain": [
       "1"
      ]
     },
     "execution_count": 15,
     "metadata": {},
     "output_type": "execute_result"
    }
   ],
   "source": [
    "# delete keys/ fields\n",
    "key_to_del = 'Pratik Rathod@Student'\n",
    "r.hdel(name, key_to_del)"
   ]
  },
  {
   "cell_type": "code",
   "execution_count": 16,
   "id": "70a503ae-172d-44ba-92c8-3dfd543d8c3c",
   "metadata": {},
   "outputs": [
    {
     "data": {
      "text/plain": [
       "b'Scarlett Johansson@Student'    b'K\\xe9C>\\x8d\\x14\\xfa\\xbe\\x8eY\\xd8\\xbf\\xd3\\x81...\n",
       "b'Chris Evans@Student'           b')]8?\\x05\\xf5\\xbb\\xbf83G\\xbf\\xcc\\xe4\\xba\\xbf\\...\n",
       "b'Morgan Freeman@Teacher'        b'\\xee\\x7f\\xf8>\\x87\\x87\\x1e\\xbfja\\xd0\\xbe\\xbe\\...\n",
       "b'Angelina Jolie@Student'        b'3f\\xdd>\\xae\\x94\\x89?\\xeb\\xb5\\x03\\xbeN\\xa9\\xe...\n",
       "b'Barack Obama@Teacher'          b'5\\xd6r?\\xa5\\xf3\\x0e\\xbf]1\\xc2=\\xde\\xcb\\xa3\\x...\n",
       "dtype: object"
      ]
     },
     "execution_count": 16,
     "metadata": {},
     "output_type": "execute_result"
    }
   ],
   "source": [
    "register_series = pd.Series(r.hgetall(name))\n",
    "register_series"
   ]
  },
  {
   "cell_type": "code",
   "execution_count": 17,
   "id": "d32ec20d-7199-4936-9e89-08c26bfabd71",
   "metadata": {},
   "outputs": [
    {
     "data": {
      "text/plain": [
       "0"
      ]
     },
     "execution_count": 17,
     "metadata": {},
     "output_type": "execute_result"
    }
   ],
   "source": [
    "key_to_del = 'asdad'\n",
    "r.hdel(name, key_to_del)"
   ]
  },
  {
   "cell_type": "code",
   "execution_count": null,
   "id": "9a1ff84e-a792-428b-a756-6a67bae34be9",
   "metadata": {},
   "outputs": [],
   "source": []
  },
  {
   "cell_type": "code",
   "execution_count": null,
   "id": "0f770c34-4766-42c9-b01e-99d6e8268415",
   "metadata": {},
   "outputs": [],
   "source": []
  }
 ],
 "metadata": {
  "kernelspec": {
   "display_name": "Python 3 (ipykernel)",
   "language": "python",
   "name": "python3"
  },
  "language_info": {
   "codemirror_mode": {
    "name": "ipython",
    "version": 3
   },
   "file_extension": ".py",
   "mimetype": "text/x-python",
   "name": "python",
   "nbconvert_exporter": "python",
   "pygments_lexer": "ipython3",
   "version": "3.11.3"
  }
 },
 "nbformat": 4,
 "nbformat_minor": 5
}
